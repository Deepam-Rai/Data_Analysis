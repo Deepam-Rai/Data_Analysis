{
 "cells": [
  {
   "cell_type": "markdown",
   "id": "81550b5e",
   "metadata": {},
   "source": [
    "# <center>Data Cleaning and Pre-Processing</center> "
   ]
  },
  {
   "cell_type": "markdown",
   "id": "b1463533",
   "metadata": {},
   "source": [
    "---"
   ]
  },
  {
   "cell_type": "markdown",
   "id": "af7c8f69",
   "metadata": {},
   "source": [
    "## Importing the libraries"
   ]
  },
  {
   "cell_type": "code",
   "execution_count": 1,
   "id": "51697057",
   "metadata": {},
   "outputs": [],
   "source": [
    "import numpy as np\n",
    "import pandas as pd"
   ]
  },
  {
   "cell_type": "markdown",
   "id": "fb8ec2dd",
   "metadata": {},
   "source": [
    "## Loding the Dataset"
   ]
  },
  {
   "cell_type": "code",
   "execution_count": 2,
   "id": "f2190a12",
   "metadata": {},
   "outputs": [],
   "source": [
    "#loading the dataset\n",
    "df = pd.read_csv('./Dataset/googleplaystore.csv')"
   ]
  },
  {
   "cell_type": "markdown",
   "id": "a2a50ebc",
   "metadata": {},
   "source": [
    "---"
   ]
  },
  {
   "cell_type": "markdown",
   "id": "267cdf2c",
   "metadata": {},
   "source": [
    "## Glance of the dataset"
   ]
  },
  {
   "cell_type": "code",
   "execution_count": 3,
   "id": "42ebf0b2",
   "metadata": {},
   "outputs": [
    {
     "data": {
      "text/html": [
       "<div>\n",
       "<style scoped>\n",
       "    .dataframe tbody tr th:only-of-type {\n",
       "        vertical-align: middle;\n",
       "    }\n",
       "\n",
       "    .dataframe tbody tr th {\n",
       "        vertical-align: top;\n",
       "    }\n",
       "\n",
       "    .dataframe thead th {\n",
       "        text-align: right;\n",
       "    }\n",
       "</style>\n",
       "<table border=\"1\" class=\"dataframe\">\n",
       "  <thead>\n",
       "    <tr style=\"text-align: right;\">\n",
       "      <th></th>\n",
       "      <th>App</th>\n",
       "      <th>Category</th>\n",
       "      <th>Rating</th>\n",
       "      <th>Reviews</th>\n",
       "      <th>Size</th>\n",
       "      <th>Installs</th>\n",
       "      <th>Type</th>\n",
       "      <th>Price</th>\n",
       "      <th>Content Rating</th>\n",
       "      <th>Genres</th>\n",
       "      <th>Last Updated</th>\n",
       "      <th>Current Ver</th>\n",
       "      <th>Android Ver</th>\n",
       "    </tr>\n",
       "  </thead>\n",
       "  <tbody>\n",
       "    <tr>\n",
       "      <th>0</th>\n",
       "      <td>Photo Editor &amp; Candy Camera &amp; Grid &amp; ScrapBook</td>\n",
       "      <td>ART_AND_DESIGN</td>\n",
       "      <td>4.1</td>\n",
       "      <td>159</td>\n",
       "      <td>19M</td>\n",
       "      <td>10,000+</td>\n",
       "      <td>Free</td>\n",
       "      <td>0</td>\n",
       "      <td>Everyone</td>\n",
       "      <td>Art &amp; Design</td>\n",
       "      <td>January 7, 2018</td>\n",
       "      <td>1.0.0</td>\n",
       "      <td>4.0.3 and up</td>\n",
       "    </tr>\n",
       "    <tr>\n",
       "      <th>1</th>\n",
       "      <td>Coloring book moana</td>\n",
       "      <td>ART_AND_DESIGN</td>\n",
       "      <td>3.9</td>\n",
       "      <td>967</td>\n",
       "      <td>14M</td>\n",
       "      <td>500,000+</td>\n",
       "      <td>Free</td>\n",
       "      <td>0</td>\n",
       "      <td>Everyone</td>\n",
       "      <td>Art &amp; Design;Pretend Play</td>\n",
       "      <td>January 15, 2018</td>\n",
       "      <td>2.0.0</td>\n",
       "      <td>4.0.3 and up</td>\n",
       "    </tr>\n",
       "    <tr>\n",
       "      <th>2</th>\n",
       "      <td>U Launcher Lite – FREE Live Cool Themes, Hide ...</td>\n",
       "      <td>ART_AND_DESIGN</td>\n",
       "      <td>4.7</td>\n",
       "      <td>87510</td>\n",
       "      <td>8.7M</td>\n",
       "      <td>5,000,000+</td>\n",
       "      <td>Free</td>\n",
       "      <td>0</td>\n",
       "      <td>Everyone</td>\n",
       "      <td>Art &amp; Design</td>\n",
       "      <td>August 1, 2018</td>\n",
       "      <td>1.2.4</td>\n",
       "      <td>4.0.3 and up</td>\n",
       "    </tr>\n",
       "    <tr>\n",
       "      <th>3</th>\n",
       "      <td>Sketch - Draw &amp; Paint</td>\n",
       "      <td>ART_AND_DESIGN</td>\n",
       "      <td>4.5</td>\n",
       "      <td>215644</td>\n",
       "      <td>25M</td>\n",
       "      <td>50,000,000+</td>\n",
       "      <td>Free</td>\n",
       "      <td>0</td>\n",
       "      <td>Teen</td>\n",
       "      <td>Art &amp; Design</td>\n",
       "      <td>June 8, 2018</td>\n",
       "      <td>Varies with device</td>\n",
       "      <td>4.2 and up</td>\n",
       "    </tr>\n",
       "    <tr>\n",
       "      <th>4</th>\n",
       "      <td>Pixel Draw - Number Art Coloring Book</td>\n",
       "      <td>ART_AND_DESIGN</td>\n",
       "      <td>4.3</td>\n",
       "      <td>967</td>\n",
       "      <td>2.8M</td>\n",
       "      <td>100,000+</td>\n",
       "      <td>Free</td>\n",
       "      <td>0</td>\n",
       "      <td>Everyone</td>\n",
       "      <td>Art &amp; Design;Creativity</td>\n",
       "      <td>June 20, 2018</td>\n",
       "      <td>1.1</td>\n",
       "      <td>4.4 and up</td>\n",
       "    </tr>\n",
       "  </tbody>\n",
       "</table>\n",
       "</div>"
      ],
      "text/plain": [
       "                                                 App        Category  Rating  \\\n",
       "0     Photo Editor & Candy Camera & Grid & ScrapBook  ART_AND_DESIGN     4.1   \n",
       "1                                Coloring book moana  ART_AND_DESIGN     3.9   \n",
       "2  U Launcher Lite – FREE Live Cool Themes, Hide ...  ART_AND_DESIGN     4.7   \n",
       "3                              Sketch - Draw & Paint  ART_AND_DESIGN     4.5   \n",
       "4              Pixel Draw - Number Art Coloring Book  ART_AND_DESIGN     4.3   \n",
       "\n",
       "  Reviews  Size     Installs  Type Price Content Rating  \\\n",
       "0     159   19M      10,000+  Free     0       Everyone   \n",
       "1     967   14M     500,000+  Free     0       Everyone   \n",
       "2   87510  8.7M   5,000,000+  Free     0       Everyone   \n",
       "3  215644   25M  50,000,000+  Free     0           Teen   \n",
       "4     967  2.8M     100,000+  Free     0       Everyone   \n",
       "\n",
       "                      Genres      Last Updated         Current Ver  \\\n",
       "0               Art & Design   January 7, 2018               1.0.0   \n",
       "1  Art & Design;Pretend Play  January 15, 2018               2.0.0   \n",
       "2               Art & Design    August 1, 2018               1.2.4   \n",
       "3               Art & Design      June 8, 2018  Varies with device   \n",
       "4    Art & Design;Creativity     June 20, 2018                 1.1   \n",
       "\n",
       "    Android Ver  \n",
       "0  4.0.3 and up  \n",
       "1  4.0.3 and up  \n",
       "2  4.0.3 and up  \n",
       "3    4.2 and up  \n",
       "4    4.4 and up  "
      ]
     },
     "execution_count": 3,
     "metadata": {},
     "output_type": "execute_result"
    }
   ],
   "source": [
    "#viewing the first few rowd of data\n",
    "df.head()"
   ]
  },
  {
   "cell_type": "markdown",
   "id": "90126f2d",
   "metadata": {},
   "source": [
    "## Columns in the dataset"
   ]
  },
  {
   "cell_type": "code",
   "execution_count": 4,
   "id": "b2fbc7e2",
   "metadata": {},
   "outputs": [
    {
     "data": {
      "text/plain": [
       "Index(['App', 'Category', 'Rating', 'Reviews', 'Size', 'Installs', 'Type',\n",
       "       'Price', 'Content Rating', 'Genres', 'Last Updated', 'Current Ver',\n",
       "       'Android Ver'],\n",
       "      dtype='object')"
      ]
     },
     "execution_count": 4,
     "metadata": {},
     "output_type": "execute_result"
    }
   ],
   "source": [
    "#checking the columns in our dataset\n",
    "df.columns"
   ]
  },
  {
   "cell_type": "markdown",
   "id": "86380269",
   "metadata": {},
   "source": [
    "| Column | What columns denotes |\n",
    "|:--|:--|\n",
    "| Apps | Name of the application. |\n",
    "| Category | Which category it belogs to (eg ARTS,TOOLS,etc)|\n",
    "| Rating | Ratings given by users |\n",
    "| Reviews | Count of reviews given by users |\n",
    "| Size | Size of the Application |\n",
    "| Installs | Total No of Installs of the App |\n",
    "| Type | Denotes whether Free or Paid |\n",
    "| Price | Price of the App |\n",
    "| Content Rating | Denotes whether its for children or adults, etc |\n",
    "| Genres | Denotes whether app is for art, connectivity, etc |\n",
    "| Last Updated | The date app was last updated. |\n",
    "| Current Ver | Current Version of the App |\n",
    "| Android Ver | The android versions it supports |\n"
   ]
  },
  {
   "cell_type": "markdown",
   "id": "d46be188",
   "metadata": {},
   "source": [
    "### Data-types of the columns"
   ]
  },
  {
   "cell_type": "code",
   "execution_count": 5,
   "id": "9022f223",
   "metadata": {},
   "outputs": [
    {
     "data": {
      "text/plain": [
       "App                object\n",
       "Category           object\n",
       "Rating            float64\n",
       "Reviews            object\n",
       "Size               object\n",
       "Installs           object\n",
       "Type               object\n",
       "Price              object\n",
       "Content Rating     object\n",
       "Genres             object\n",
       "Last Updated       object\n",
       "Current Ver        object\n",
       "Android Ver        object\n",
       "dtype: object"
      ]
     },
     "execution_count": 5,
     "metadata": {},
     "output_type": "execute_result"
    }
   ],
   "source": [
    "df.dtypes"
   ]
  },
  {
   "cell_type": "markdown",
   "id": "b7c59b33",
   "metadata": {},
   "source": [
    "We note that even fields like Size, Installs, etc are of object type. Because they are kept as string, so we make note to transform these fields into integer or float format appropriately."
   ]
  },
  {
   "cell_type": "markdown",
   "id": "e4d484cb",
   "metadata": {},
   "source": [
    "Now that we have quite some idea about our dataset, we start the cleaning phase of our data.\n",
    "\n",
    "---"
   ]
  },
  {
   "cell_type": "markdown",
   "id": "ea7763d2",
   "metadata": {},
   "source": [
    "## Checking for any erroneous data in columns"
   ]
  },
  {
   "cell_type": "markdown",
   "id": "805c6cf8",
   "metadata": {},
   "source": [
    "In this step we are looking at the column values and check if there are any suspicious values present."
   ]
  },
  {
   "cell_type": "code",
   "execution_count": 6,
   "id": "c7ddc67c",
   "metadata": {},
   "outputs": [
    {
     "data": {
      "text/plain": [
       "array(['ART_AND_DESIGN', 'AUTO_AND_VEHICLES', 'BEAUTY',\n",
       "       'BOOKS_AND_REFERENCE', 'BUSINESS', 'COMICS', 'COMMUNICATION',\n",
       "       'DATING', 'EDUCATION', 'ENTERTAINMENT', 'EVENTS', 'FINANCE',\n",
       "       'FOOD_AND_DRINK', 'HEALTH_AND_FITNESS', 'HOUSE_AND_HOME',\n",
       "       'LIBRARIES_AND_DEMO', 'LIFESTYLE', 'GAME', 'FAMILY', 'MEDICAL',\n",
       "       'SOCIAL', 'SHOPPING', 'PHOTOGRAPHY', 'SPORTS', 'TRAVEL_AND_LOCAL',\n",
       "       'TOOLS', 'PERSONALIZATION', 'PRODUCTIVITY', 'PARENTING', 'WEATHER',\n",
       "       'VIDEO_PLAYERS', 'NEWS_AND_MAGAZINES', 'MAPS_AND_NAVIGATION',\n",
       "       '1.9'], dtype=object)"
      ]
     },
     "execution_count": 6,
     "metadata": {},
     "output_type": "execute_result"
    }
   ],
   "source": [
    "#Since App name can be anything we exclude that column\n",
    "\n",
    "df.Category.unique()"
   ]
  },
  {
   "cell_type": "markdown",
   "id": "f6ed024f",
   "metadata": {},
   "source": [
    "We notice the value '1.9' in the ouput which is absurd; so we investigate more on rows containing that value."
   ]
  },
  {
   "cell_type": "code",
   "execution_count": 7,
   "id": "4a420f89",
   "metadata": {},
   "outputs": [
    {
     "data": {
      "text/html": [
       "<div>\n",
       "<style scoped>\n",
       "    .dataframe tbody tr th:only-of-type {\n",
       "        vertical-align: middle;\n",
       "    }\n",
       "\n",
       "    .dataframe tbody tr th {\n",
       "        vertical-align: top;\n",
       "    }\n",
       "\n",
       "    .dataframe thead th {\n",
       "        text-align: right;\n",
       "    }\n",
       "</style>\n",
       "<table border=\"1\" class=\"dataframe\">\n",
       "  <thead>\n",
       "    <tr style=\"text-align: right;\">\n",
       "      <th></th>\n",
       "      <th>App</th>\n",
       "      <th>Category</th>\n",
       "      <th>Rating</th>\n",
       "      <th>Reviews</th>\n",
       "      <th>Size</th>\n",
       "      <th>Installs</th>\n",
       "      <th>Type</th>\n",
       "      <th>Price</th>\n",
       "      <th>Content Rating</th>\n",
       "      <th>Genres</th>\n",
       "      <th>Last Updated</th>\n",
       "      <th>Current Ver</th>\n",
       "      <th>Android Ver</th>\n",
       "    </tr>\n",
       "  </thead>\n",
       "  <tbody>\n",
       "    <tr>\n",
       "      <th>10472</th>\n",
       "      <td>Life Made WI-Fi Touchscreen Photo Frame</td>\n",
       "      <td>1.9</td>\n",
       "      <td>19.0</td>\n",
       "      <td>3.0M</td>\n",
       "      <td>1,000+</td>\n",
       "      <td>Free</td>\n",
       "      <td>0</td>\n",
       "      <td>Everyone</td>\n",
       "      <td>NaN</td>\n",
       "      <td>February 11, 2018</td>\n",
       "      <td>1.0.19</td>\n",
       "      <td>4.0 and up</td>\n",
       "      <td>NaN</td>\n",
       "    </tr>\n",
       "  </tbody>\n",
       "</table>\n",
       "</div>"
      ],
      "text/plain": [
       "                                           App Category  Rating Reviews  \\\n",
       "10472  Life Made WI-Fi Touchscreen Photo Frame      1.9    19.0    3.0M   \n",
       "\n",
       "         Size Installs Type     Price Content Rating             Genres  \\\n",
       "10472  1,000+     Free    0  Everyone            NaN  February 11, 2018   \n",
       "\n",
       "      Last Updated Current Ver Android Ver  \n",
       "10472       1.0.19  4.0 and up         NaN  "
      ]
     },
     "execution_count": 7,
     "metadata": {},
     "output_type": "execute_result"
    }
   ],
   "source": [
    "df[df.Category=='1.9']"
   ]
  },
  {
   "cell_type": "markdown",
   "id": "bf9459b2",
   "metadata": {},
   "source": [
    "   In the above output from the values in respective column we can infer that the values in this particular has been messed up. The columns 'Rating', 'Size', 'Price',etc seems to have all exchanged, rendering the row erroneous.\n",
    "   <br>&emsp; We decide to completely drop this row from the dataset.\n"
   ]
  },
  {
   "cell_type": "code",
   "execution_count": 8,
   "id": "255747d9",
   "metadata": {},
   "outputs": [
    {
     "data": {
      "text/html": [
       "<div>\n",
       "<style scoped>\n",
       "    .dataframe tbody tr th:only-of-type {\n",
       "        vertical-align: middle;\n",
       "    }\n",
       "\n",
       "    .dataframe tbody tr th {\n",
       "        vertical-align: top;\n",
       "    }\n",
       "\n",
       "    .dataframe thead th {\n",
       "        text-align: right;\n",
       "    }\n",
       "</style>\n",
       "<table border=\"1\" class=\"dataframe\">\n",
       "  <thead>\n",
       "    <tr style=\"text-align: right;\">\n",
       "      <th></th>\n",
       "      <th>App</th>\n",
       "      <th>Category</th>\n",
       "      <th>Rating</th>\n",
       "      <th>Reviews</th>\n",
       "      <th>Size</th>\n",
       "      <th>Installs</th>\n",
       "      <th>Type</th>\n",
       "      <th>Price</th>\n",
       "      <th>Content Rating</th>\n",
       "      <th>Genres</th>\n",
       "      <th>Last Updated</th>\n",
       "      <th>Current Ver</th>\n",
       "      <th>Android Ver</th>\n",
       "    </tr>\n",
       "  </thead>\n",
       "  <tbody>\n",
       "  </tbody>\n",
       "</table>\n",
       "</div>"
      ],
      "text/plain": [
       "Empty DataFrame\n",
       "Columns: [App, Category, Rating, Reviews, Size, Installs, Type, Price, Content Rating, Genres, Last Updated, Current Ver, Android Ver]\n",
       "Index: []"
      ]
     },
     "execution_count": 8,
     "metadata": {},
     "output_type": "execute_result"
    }
   ],
   "source": [
    "\n",
    "df = df[df.Category!='1.9']\n",
    "df[df.Category=='1.9']"
   ]
  },
  {
   "cell_type": "markdown",
   "id": "54d1af70",
   "metadata": {},
   "source": [
    "Thus the erroneous row has been removed. Then we check for other columns also. And we find out that all other columns have appropriate fields."
   ]
  },
  {
   "cell_type": "markdown",
   "id": "9f6d39e5",
   "metadata": {},
   "source": [
    "### Checking for abnormal values like Null values, less than 0, etc."
   ]
  },
  {
   "cell_type": "code",
   "execution_count": 9,
   "id": "1d3a49a0",
   "metadata": {},
   "outputs": [
    {
     "data": {
      "text/plain": [
       "App                  0\n",
       "Category             0\n",
       "Rating            1474\n",
       "Reviews              0\n",
       "Size                 0\n",
       "Installs             0\n",
       "Type                 1\n",
       "Price                0\n",
       "Content Rating       0\n",
       "Genres               0\n",
       "Last Updated         0\n",
       "Current Ver          8\n",
       "Android Ver          2\n",
       "dtype: int64"
      ]
     },
     "execution_count": 9,
     "metadata": {},
     "output_type": "execute_result"
    }
   ],
   "source": [
    "df.isna().sum()"
   ]
  },
  {
   "cell_type": "markdown",
   "id": "07cae88b",
   "metadata": {},
   "source": [
    "In the above output, its no concern for the rating to be Null as many Apps are not rated. The Type can be undefined as well. However we will put Current Ver to 1.0.0 for undefined values. The Android Ver too can be NaN. These NaN values can also be omitted during EDA, and also their other fields might be usable, so we dont drop these rows."
   ]
  },
  {
   "cell_type": "code",
   "execution_count": 10,
   "id": "f3a67741",
   "metadata": {},
   "outputs": [
    {
     "data": {
      "text/plain": [
       "0"
      ]
     },
     "execution_count": 10,
     "metadata": {},
     "output_type": "execute_result"
    }
   ],
   "source": [
    "df.loc[df['Current Ver'].isna(),('Current Ver')] = '1.0.0'\n",
    "# df['Current ver'] = df['Current Ver'].fillna( df['Current Ver'].median())\n",
    "df['Current Ver'].isna().sum()"
   ]
  },
  {
   "cell_type": "markdown",
   "id": "2ad3f416",
   "metadata": {},
   "source": [
    "So now we start to convert the column data into easily usable data-types.\n",
    "\n",
    "---"
   ]
  },
  {
   "cell_type": "markdown",
   "id": "d3f8a7c3",
   "metadata": {},
   "source": [
    "## Converting the Column data-types to appropriate and usable format"
   ]
  },
  {
   "cell_type": "markdown",
   "id": "3e695e2c",
   "metadata": {},
   "source": [
    "The data-types for the columns of our dataset are as:"
   ]
  },
  {
   "cell_type": "code",
   "execution_count": 11,
   "id": "4aaf88a1",
   "metadata": {},
   "outputs": [
    {
     "data": {
      "text/plain": [
       "App                object\n",
       "Category           object\n",
       "Rating            float64\n",
       "Reviews            object\n",
       "Size               object\n",
       "Installs           object\n",
       "Type               object\n",
       "Price              object\n",
       "Content Rating     object\n",
       "Genres             object\n",
       "Last Updated       object\n",
       "Current Ver        object\n",
       "Android Ver        object\n",
       "dtype: object"
      ]
     },
     "execution_count": 11,
     "metadata": {},
     "output_type": "execute_result"
    }
   ],
   "source": [
    "df.dtypes"
   ]
  },
  {
   "cell_type": "markdown",
   "id": "f6db68e6",
   "metadata": {},
   "source": [
    "Here we see that most of the data are in object format, or specifically they are in string format. We have to convert them into numeric format for easy processing during EDA."
   ]
  },
  {
   "cell_type": "code",
   "execution_count": 12,
   "id": "93c4d8a2",
   "metadata": {},
   "outputs": [],
   "source": [
    "#converting 'Reviews' column into numeric format.\n",
    "df['Reviews']= pd.to_numeric(df['Reviews'], errors='coerce')\n",
    "\n",
    "#removing the '+' that indicates more than from 'Installs' columns. and converting the column to numeric form\n",
    "#  we proceed with understanding that the number of installs are more than the given value\n",
    "#  however the difference is negligible\n",
    "df['Installs']=df['Installs'].str.replace('+','',regex=True).replace(',','',regex=True)\n",
    "df['Installs']= pd.to_numeric(df['Installs'], errors='coerce')\n",
    "\n",
    "#converting the price to numeric form\n",
    "#  and also name of the column to denote the '$' value\n",
    "df['Price'] = df['Price'].str.replace('$','',regex=True)\n",
    "df['Price'] = pd.to_numeric( df['Price'], errors='coerce')\n",
    "df.rename(columns={'Price':'Price($)', 'Installs':'Installs+'}, inplace=True)\n",
    "\n",
    "#setting the date-time to appropriate format\n",
    "df['Last Updated'] = pd.to_datetime(df['Last Updated'])\n"
   ]
  },
  {
   "cell_type": "markdown",
   "id": "b9a91393",
   "metadata": {},
   "source": [
    "We need to pay little bit extra attention in Size column because there are 3 types of values: expressed in Kbs, expressed in Mbs and 'varies with device'. We change the kbs to Mbs and put the value of 'varies with device' as -1, for ease of visualization."
   ]
  },
  {
   "cell_type": "code",
   "execution_count": 13,
   "id": "d9eb4db7",
   "metadata": {},
   "outputs": [],
   "source": [
    "#we copy the value 'kbs' into new column temp, with 'k' removed\n",
    "df['temp']= df['Size'].apply( lambda x: x.replace('k','') if x.endswith('k') else '0')\n",
    "#then convert that string format into numeric format\n",
    "df['temp'] = pd.to_numeric( df.temp, errors='coerce')\n",
    "#then divide the values by 1024 to convert Kbs into Mbs\n",
    "df['temp'] = df['temp'].apply( lambda x: x/1024)\n",
    "\n",
    "#replace the kbs values as zero in Size column\n",
    "df['Size'] = df.Size.apply( lambda x: '0' if x.endswith('k') else x)\n",
    "#we replace 'varies with device' into '-1'\n",
    "df['Size'] = df.Size.apply( lambda x: '-1' if x.endswith('Varies with device') else x)\n",
    "#then replace the 'M' also with '' for Mbs values\n",
    "df['Size'] = df.Size.replace('M','',regex=True)\n",
    "\n",
    "#then convert the Size column to numeric fomat\n",
    "df['Size'] = pd.to_numeric( df.Size, errors='coerce')\n",
    "\n",
    "#then assign the Size column appropriately; note that Size has values 0 for kbs while temp has 0 values for Mbs and varies-with-device\n",
    "df['Size']= df['Size'] + df['temp']\n",
    "\n",
    "#then we drop the temp column\n",
    "df.drop('temp', axis=1, inplace=True)"
   ]
  },
  {
   "cell_type": "markdown",
   "id": "0a4c258f",
   "metadata": {},
   "source": [
    "## Checking for the duplicate rows"
   ]
  },
  {
   "cell_type": "markdown",
   "id": "421f0d23",
   "metadata": {},
   "source": [
    "Duplicate rows are checked based upon their app names as it is the only key we can use for the purpose."
   ]
  },
  {
   "cell_type": "code",
   "execution_count": 14,
   "id": "899634e7",
   "metadata": {},
   "outputs": [
    {
     "data": {
      "text/plain": [
       "ROBLOX                                                9\n",
       "CBS Sports App - Scores, News, Stats & Watch Live     8\n",
       "ESPN                                                  7\n",
       "Duolingo: Learn Languages Free                        7\n",
       "Candy Crush Saga                                      7\n",
       "                                                     ..\n",
       "Meet U - Get Friends for Snapchat, Kik & Instagram    1\n",
       "U-Report                                              1\n",
       "U of I Community Credit Union                         1\n",
       "Waiting For U Launcher Theme                          1\n",
       "iHoroscope - 2018 Daily Horoscope & Astrology         1\n",
       "Name: App, Length: 9659, dtype: int64"
      ]
     },
     "execution_count": 14,
     "metadata": {},
     "output_type": "execute_result"
    }
   ],
   "source": [
    "df.App.value_counts()"
   ]
  },
  {
   "cell_type": "markdown",
   "id": "304b7780",
   "metadata": {},
   "source": [
    "So as we can see there are multiple copies of many apps( shown on the top portion of the above output). Foe example we see the copies of \"ESPN\" app."
   ]
  },
  {
   "cell_type": "code",
   "execution_count": 15,
   "id": "94c12ccc",
   "metadata": {},
   "outputs": [
    {
     "data": {
      "text/html": [
       "<div>\n",
       "<style scoped>\n",
       "    .dataframe tbody tr th:only-of-type {\n",
       "        vertical-align: middle;\n",
       "    }\n",
       "\n",
       "    .dataframe tbody tr th {\n",
       "        vertical-align: top;\n",
       "    }\n",
       "\n",
       "    .dataframe thead th {\n",
       "        text-align: right;\n",
       "    }\n",
       "</style>\n",
       "<table border=\"1\" class=\"dataframe\">\n",
       "  <thead>\n",
       "    <tr style=\"text-align: right;\">\n",
       "      <th></th>\n",
       "      <th>App</th>\n",
       "      <th>Category</th>\n",
       "      <th>Rating</th>\n",
       "      <th>Reviews</th>\n",
       "      <th>Size</th>\n",
       "      <th>Installs+</th>\n",
       "      <th>Type</th>\n",
       "      <th>Price($)</th>\n",
       "      <th>Content Rating</th>\n",
       "      <th>Genres</th>\n",
       "      <th>Last Updated</th>\n",
       "      <th>Current Ver</th>\n",
       "      <th>Android Ver</th>\n",
       "    </tr>\n",
       "  </thead>\n",
       "  <tbody>\n",
       "    <tr>\n",
       "      <th>2959</th>\n",
       "      <td>ESPN</td>\n",
       "      <td>SPORTS</td>\n",
       "      <td>4.2</td>\n",
       "      <td>521138</td>\n",
       "      <td>-1.0</td>\n",
       "      <td>10000000</td>\n",
       "      <td>Free</td>\n",
       "      <td>0.0</td>\n",
       "      <td>Everyone 10+</td>\n",
       "      <td>Sports</td>\n",
       "      <td>2018-07-19</td>\n",
       "      <td>Varies with device</td>\n",
       "      <td>5.0 and up</td>\n",
       "    </tr>\n",
       "    <tr>\n",
       "      <th>3010</th>\n",
       "      <td>ESPN</td>\n",
       "      <td>SPORTS</td>\n",
       "      <td>4.2</td>\n",
       "      <td>521138</td>\n",
       "      <td>-1.0</td>\n",
       "      <td>10000000</td>\n",
       "      <td>Free</td>\n",
       "      <td>0.0</td>\n",
       "      <td>Everyone 10+</td>\n",
       "      <td>Sports</td>\n",
       "      <td>2018-07-19</td>\n",
       "      <td>Varies with device</td>\n",
       "      <td>5.0 and up</td>\n",
       "    </tr>\n",
       "    <tr>\n",
       "      <th>3018</th>\n",
       "      <td>ESPN</td>\n",
       "      <td>SPORTS</td>\n",
       "      <td>4.2</td>\n",
       "      <td>521138</td>\n",
       "      <td>-1.0</td>\n",
       "      <td>10000000</td>\n",
       "      <td>Free</td>\n",
       "      <td>0.0</td>\n",
       "      <td>Everyone 10+</td>\n",
       "      <td>Sports</td>\n",
       "      <td>2018-07-19</td>\n",
       "      <td>Varies with device</td>\n",
       "      <td>5.0 and up</td>\n",
       "    </tr>\n",
       "    <tr>\n",
       "      <th>3048</th>\n",
       "      <td>ESPN</td>\n",
       "      <td>SPORTS</td>\n",
       "      <td>4.2</td>\n",
       "      <td>521140</td>\n",
       "      <td>-1.0</td>\n",
       "      <td>10000000</td>\n",
       "      <td>Free</td>\n",
       "      <td>0.0</td>\n",
       "      <td>Everyone 10+</td>\n",
       "      <td>Sports</td>\n",
       "      <td>2018-07-19</td>\n",
       "      <td>Varies with device</td>\n",
       "      <td>5.0 and up</td>\n",
       "    </tr>\n",
       "    <tr>\n",
       "      <th>3060</th>\n",
       "      <td>ESPN</td>\n",
       "      <td>SPORTS</td>\n",
       "      <td>4.2</td>\n",
       "      <td>521140</td>\n",
       "      <td>-1.0</td>\n",
       "      <td>10000000</td>\n",
       "      <td>Free</td>\n",
       "      <td>0.0</td>\n",
       "      <td>Everyone 10+</td>\n",
       "      <td>Sports</td>\n",
       "      <td>2018-07-19</td>\n",
       "      <td>Varies with device</td>\n",
       "      <td>5.0 and up</td>\n",
       "    </tr>\n",
       "    <tr>\n",
       "      <th>3072</th>\n",
       "      <td>ESPN</td>\n",
       "      <td>SPORTS</td>\n",
       "      <td>4.2</td>\n",
       "      <td>521140</td>\n",
       "      <td>-1.0</td>\n",
       "      <td>10000000</td>\n",
       "      <td>Free</td>\n",
       "      <td>0.0</td>\n",
       "      <td>Everyone 10+</td>\n",
       "      <td>Sports</td>\n",
       "      <td>2018-07-19</td>\n",
       "      <td>Varies with device</td>\n",
       "      <td>5.0 and up</td>\n",
       "    </tr>\n",
       "    <tr>\n",
       "      <th>4069</th>\n",
       "      <td>ESPN</td>\n",
       "      <td>SPORTS</td>\n",
       "      <td>4.2</td>\n",
       "      <td>521081</td>\n",
       "      <td>-1.0</td>\n",
       "      <td>10000000</td>\n",
       "      <td>Free</td>\n",
       "      <td>0.0</td>\n",
       "      <td>Everyone 10+</td>\n",
       "      <td>Sports</td>\n",
       "      <td>2018-07-19</td>\n",
       "      <td>Varies with device</td>\n",
       "      <td>5.0 and up</td>\n",
       "    </tr>\n",
       "  </tbody>\n",
       "</table>\n",
       "</div>"
      ],
      "text/plain": [
       "       App Category  Rating  Reviews  Size  Installs+  Type  Price($)  \\\n",
       "2959  ESPN   SPORTS     4.2   521138  -1.0   10000000  Free       0.0   \n",
       "3010  ESPN   SPORTS     4.2   521138  -1.0   10000000  Free       0.0   \n",
       "3018  ESPN   SPORTS     4.2   521138  -1.0   10000000  Free       0.0   \n",
       "3048  ESPN   SPORTS     4.2   521140  -1.0   10000000  Free       0.0   \n",
       "3060  ESPN   SPORTS     4.2   521140  -1.0   10000000  Free       0.0   \n",
       "3072  ESPN   SPORTS     4.2   521140  -1.0   10000000  Free       0.0   \n",
       "4069  ESPN   SPORTS     4.2   521081  -1.0   10000000  Free       0.0   \n",
       "\n",
       "     Content Rating  Genres Last Updated         Current Ver Android Ver  \n",
       "2959   Everyone 10+  Sports   2018-07-19  Varies with device  5.0 and up  \n",
       "3010   Everyone 10+  Sports   2018-07-19  Varies with device  5.0 and up  \n",
       "3018   Everyone 10+  Sports   2018-07-19  Varies with device  5.0 and up  \n",
       "3048   Everyone 10+  Sports   2018-07-19  Varies with device  5.0 and up  \n",
       "3060   Everyone 10+  Sports   2018-07-19  Varies with device  5.0 and up  \n",
       "3072   Everyone 10+  Sports   2018-07-19  Varies with device  5.0 and up  \n",
       "4069   Everyone 10+  Sports   2018-07-19  Varies with device  5.0 and up  "
      ]
     },
     "execution_count": 15,
     "metadata": {},
     "output_type": "execute_result"
    }
   ],
   "source": [
    "df[ df.App == 'ESPN']"
   ]
  },
  {
   "cell_type": "markdown",
   "id": "4bd8acb2",
   "metadata": {},
   "source": [
    "So we remove these copies based upon the number of reviews, assuming that the copy with most number of reviews must be the latest one."
   ]
  },
  {
   "cell_type": "code",
   "execution_count": 16,
   "id": "9da41881",
   "metadata": {},
   "outputs": [
    {
     "data": {
      "text/plain": [
       "\"i DT\" Fútbol. Todos Somos Técnicos.                 1\n",
       "My Talking Tom                                       1\n",
       "My Teacher - Classroom Play                          1\n",
       "My Telcel                                            1\n",
       "My Tele2                                             1\n",
       "                                                    ..\n",
       "Delivery trough - delivery trough delivery trough    1\n",
       "Delivery yogi.                                       1\n",
       "Delta Dental                                         1\n",
       "Denis Brogniart - AH !                               1\n",
       "🔥 Football Wallpapers 4K | Full HD Backgrounds 😍     1\n",
       "Name: App, Length: 9659, dtype: int64"
      ]
     },
     "execution_count": 16,
     "metadata": {},
     "output_type": "execute_result"
    }
   ],
   "source": [
    "df= df.loc[df.groupby(['App'])['Reviews'].idxmax()]\n",
    "df.App.value_counts()"
   ]
  },
  {
   "cell_type": "markdown",
   "id": "7667c1d9",
   "metadata": {},
   "source": [
    "Thus we have removed the duplicates."
   ]
  },
  {
   "cell_type": "markdown",
   "id": "7402a986",
   "metadata": {},
   "source": [
    "---\n",
    "\n",
    "## A Final Look on the dataset columns"
   ]
  },
  {
   "cell_type": "code",
   "execution_count": 17,
   "id": "a9768b87",
   "metadata": {},
   "outputs": [
    {
     "name": "stdout",
     "output_type": "stream",
     "text": [
      "\n",
      "Shape of Dataframe:  (9659, 13) \n",
      "\n",
      "                     Data Type  No of Nulls\n",
      "App                     object            0\n",
      "Category                object            0\n",
      "Rating                 float64         1463\n",
      "Reviews                  int64            0\n",
      "Size                   float64            0\n",
      "Installs+                int64            0\n",
      "Type                    object            1\n",
      "Price($)               float64            0\n",
      "Content Rating          object            0\n",
      "Genres                  object            0\n",
      "Last Updated    datetime64[ns]            0\n",
      "Current Ver             object            0\n",
      "Android Ver             object            2\n"
     ]
    }
   ],
   "source": [
    "def quickShow(dataframe):\n",
    "  print(\"\\nShape of Dataframe: \", dataframe.shape,\"\\n\")\n",
    "  df_dtypes = dataframe.dtypes\n",
    "  df_nulls = dataframe.isnull().sum()\n",
    "  quick_glance = pd.concat( [df_dtypes.to_frame(name='Data Type'), df_nulls.to_frame(name='No of Nulls')], axis=1)\n",
    "  print(quick_glance)\n",
    "quickShow(df)"
   ]
  },
  {
   "cell_type": "markdown",
   "id": "7bb4cf32",
   "metadata": {},
   "source": [
    "Thus we have cleaned our dataset."
   ]
  },
  {
   "cell_type": "markdown",
   "id": "9e5c32cb",
   "metadata": {},
   "source": [
    "## Saving the cleaned dataset as a csv file"
   ]
  },
  {
   "cell_type": "code",
   "execution_count": 18,
   "id": "87fb0058",
   "metadata": {},
   "outputs": [],
   "source": [
    "df.to_csv(\"cleaned_playstore_apps.csv\", index=False)"
   ]
  }
 ],
 "metadata": {
  "kernelspec": {
   "display_name": "Python 3 (ipykernel)",
   "language": "python",
   "name": "python3"
  },
  "language_info": {
   "codemirror_mode": {
    "name": "ipython",
    "version": 3
   },
   "file_extension": ".py",
   "mimetype": "text/x-python",
   "name": "python",
   "nbconvert_exporter": "python",
   "pygments_lexer": "ipython3",
   "version": "3.8.10"
  }
 },
 "nbformat": 4,
 "nbformat_minor": 5
}
